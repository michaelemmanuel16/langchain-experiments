{
 "cells": [
  {
   "cell_type": "code",
   "execution_count": 1,
   "metadata": {},
   "outputs": [],
   "source": [
    "# ! pip install unstructured\n",
    "# ! pip install python-magic-bin\n"
   ]
  },
  {
   "cell_type": "code",
   "execution_count": 2,
   "metadata": {},
   "outputs": [],
   "source": [
    "from langchain.document_loaders import UnstructuredURLLoader\n",
    "from langchain.text_splitter import CharacterTextSplitter\n",
    "from langchain.embeddings import OpenAIEmbeddings\n",
    "from langchain.chat_models import ChatOpenAI\n",
    "from langchain.chains import RetrievalQA\n",
    "from langchain.prompts import PromptTemplate\n",
    "from langchain.retrievers.multi_query import MultiQueryRetriever\n",
    "import logging\n",
    "from langchain.vectorstores import FAISS\n",
    "import faiss\n",
    "from dotenv import find_dotenv, load_dotenv\n",
    "import pickle"
   ]
  },
  {
   "cell_type": "code",
   "execution_count": 3,
   "metadata": {},
   "outputs": [
    {
     "data": {
      "text/plain": [
       "True"
      ]
     },
     "execution_count": 3,
     "metadata": {},
     "output_type": "execute_result"
    }
   ],
   "source": [
    "load_dotenv(find_dotenv())"
   ]
  },
  {
   "cell_type": "code",
   "execution_count": 4,
   "metadata": {},
   "outputs": [
    {
     "data": {
      "text/plain": [
       "[Document(page_content=\"Skip to content\\n\\n(40% Discount + FREE DELIVERY Today)\\n\\nUltimate\\n\\n4in1\\n\\nEssential Teeth\\n\\nPowder\\n\\nPrevious\\n\\nNext\\n\\nListen, just pay attention and you will see the magic in few days from now\\n\\nDiscover how to remove toxins/diseases from your teeth, eradicate bad breath/mouth odour, fight tooth diseases and WHITEN your teeth permanently....\\n\\nYou have tried whitening toothpaste, whitening strips, and even bleaching trays but you are still sporting those dingy, yellowish looking teeth. Are you doing it all wrong? Are your teeth just destined to be dingy?\\n\\nLet’s look at some things that might keep your teeth whitening treatment from working.\\n\\nThe Number 1 Reason Dental restorations, such as crowns or veneers, DO NOT respond to tooth whitening products. If you have any of these restorations, especially in your front teeth, they will not whiten with bleaching products.\\n\\nNumber 2 Reason Is That Those Products Did Not Contain Activated Pearl Powder Which Actually Has The Ability To Deal With Tooth Stains.\\n\\nThe Number 3 Reason Is That They Lie That It Would Give You A Fresh Breathe, Meanwhile It Does Not Contain The Complete Formula Needed To Make That Happen. The Truth Is, For You To Completely Eliminate Bad Breath You Need To Use Menthol, Ethlhexy & Lglycerin To Combat The Bacteria That Causes Bad Breath\\n\\nThe Number 4 Reason  If your teeth have biofilm or plaque buildup, this can prevent the bleaching agent from reaching the target stains.\\n\\nSo Why Have Over 2,142+ Happy Customers Thanked Us Or Referred Us To Other Customers?\\n\\nIt Is Because, We Ensured That We Found A Product That Contains Activated Sea Pearl Powder Which Helps To Clean & Brighten The Teeth\\n\\nAnd Because We Are More Concerned About Your Long-lasting Result, We Made Sure That Customers That Order 2 Or More Will Get It For A Very Very Discounted Rate… (You can check for yourself)\\n\\nThe More You Use The Teeth Whitener, The Whiter The Teeth Becomes.\\n\\nYes! I Want To Buy Now\\n\\nSee Why You Need To Get This 4in1 Teeth Whitener\\n\\nUses the BRAND-NEW Activated Sea Pearl Powder to whiten and whiten the teeth while also making the breath fresher.\\n\\nContains pearl essence to ensure that no stain can stand its whitening effects.\\n\\nAnyone with yellow teeth or any form of stains can use it to whiten the teeth\\n\\nDoes not require water, just a toothbrush\\n\\nNoticeable results can be seen within 2 weeks of consistent use but for tooth aches, it is instant\\n\\nCleans all forms of dirt in the teeth\\n\\nForms an external protection for the teeth and gums against germs\\n\\nBoth male and female can use\\n\\n100% safe and natural with no side effects.\\n\\nPlease note that the results you saw in the video and will see on this page are not instant but due to consistent usage of the powder for few weeks.\\n\\nSee The Ultimate Tooth Whitening Powder™ In Action...\\n\\nYes! I Want To Buy Now\\n\\nSee What Some Customers Are Saying About This Amazing Teeth Whitener™\\n\\nChisom *** (Kumasi)\\n\\n4.5/5\\n\\nUsing this product has given me great relief. I have been having a reoccuring tooth ache for a very long time now. I tried different products but nothing changed. Just two times use of this product has given great relief. I can now boldly say that my tooth ache is gone!\\n\\nStephenie *** (Western)\\n\\n5/5\\n\\nYes, it is messy, but the results in just 3 weeks are much better than I expected since I’ve had no luck with anything that costs this little. Plus, you have to brush your teeth anyway, right? I use an electric toothbrush. Already my teeth are whiter than they’ve been this century.\\n\\nKofi *** (Kumasi)\\n\\n4.5/5\\n\\nI don’t like the taste but it’s only for five minutes of brushing and it’s very easy to use. It definitely worked wonders on my teeth after using for a month now. It WORKS!! I went from yellowish brown (thanks to my daily coffee 😔) to a couple shades brighter! I’m not where I want to be yet but it’s definitely getting there!! Other whitening products haven’t worked for me but this has!!!\\n\\nMathew *** (Accra)\\n\\n4.5/5\\n\\nI use this product all the time. And get good results\\n\\nQuao *** (Volta)\\n\\n5/5\\n\\nIt actually does whiten teeth. Flavor and freshness are very good. Better than expected. Highly recommend.\\n\\nLoveth *** (Tema)\\n\\n4.5/5\\n\\nGreat product, whitens my teeth noticeably, much less expensive than all the teeth medications i have been visitning the spa for.\\n\\nHere Is Why You Should Have This Amazing Teeth Whitener™ In Your Home Today\\n\\nClears Toxins and Germs Completely\\n\\nThis 4in1 essential tooth whitening powder clears toxins and germs completely. Just incase you are having tooth rot/decay, tooth ache/sores, this is the best herbal powder for you. The active ingredients contained in this powder fights everything off completely.\\n\\nEliminates The Need For Use Of Toothpastes\\n\\nNo need to worry about stained, discolored or yellow teeth, even if your teeth is white already, it can still be whiter by using this often, now you can confidently stop looking for the next teeth whitening product to get, after you get this the first time, you will definitely keep coming back for more as we have experienced with previous customers…\\n\\nContains A Sufficient Amount Of Concentrate To Give You The Teeth That Guarantees A Great Smile\\n\\nThe Amazing Teeth Whitener™ contains sufficient amounts of concentrate to penetrate the thicker enamel of any teeth to deal with any coloration and stains in the teeth.\\n\\nProtects Your Teeth & Gums, Leaving You WIth Fresh Breathe\\n\\nThe blades allow flexibility to easily cut, slice, shred, chop fruits and vegetables in shapes and sizes. Such as a potato, you can make it into wavy or normal slices, strips or mash it easily.\\n\\nGuaranteed To Give You Instant Results\\n\\nThe Amazing Teeth Whitener has some unique combinations not seen in most teeth whiteners due to a blend of activated Sea Pearl Powder and particularized Ethyhexy Gllycerin specially designed to clean tooth surfaces and also protect the teeth and gums respectively.\\n\\nResults become visible within 2 weeks of consistent daily usage of at least once a day.\\n\\nYes! I Want To Buy Now\\n\\nHow To Use This Amazing Teeth Whitener\\n\\nThe Amazing Teeth Whitener is easy and straight-forward to use and visible results can be seen within 2 weeks of consistent use. The steps below shows how to use it:\\n\\nRinse the mouth and your toothbrush\\n\\nApply the Amazing Teeth Whitener powder on the brush by inserting the brush into the container\\n\\nBrush your teeth the normal way for about 2-5 minutes, no need for water or toothpaste, it works on its own.\\n\\nWait for about 2-3 minutes after you are done brushing, do not rinse immediately, you can just spit out the foam and then rinse after 2-3 minutes.\\n\\nThis should be done in the morning and in the night.\\n\\nYes! I Want To Buy Now\\n\\nIf You Order From Us Today, You Will Recieve Our Instant Free Delivery to Your Doorstep!\\n\\nCHOOSE YOUR PACKAGE\\n\\nREGULAR\\n\\nBUY ONE\\n\\nFREE DELIVERY\\n\\n30 DAYS GUARANTEE\\n\\nGHC 150\\n\\nYes! I Want To Buy Now\\n\\nSILVER\\n\\nBUY TWO\\n\\nFREE DELIVERY\\n\\n30 DAYS GUARANTEE\\n\\nGHC 280\\n\\nYes! I Want To Buy Now\\n\\nFAMILY\\n\\nBUY THREE\\n\\nFREE DELIVERY\\n\\n30 DAYS GUARANTEE\\n\\nGHC 400\\n\\nYes! I Want To Buy Now\\n\\nYes! I Want To Buy Now\\n\\nWhy You Should Place Your Order Now\\n\\nWe offer a 30 days Guarantee. Unhappy with your product? We'll take it back!!!\\n\\nWe offer a 30 days GWe stand by our high-quality products and your satisfaction is 100% guaranteed.uarantee. Unhappy with your product? We'll take it back!!!\\n\\nWe have a few pieces left. Place Your Order Now While You Can!\\n\\nYes! I Want To Buy Now\\n\\nPLEASE NOTE!!!\\n\\nPlease be sure you are FULLY ready for the product and have the money to pay at the point of delivery because we’ve limited stock.\\n\\nHERE ARE OTHER HAPPY CUSTOMERS REVIEWS\\n\\nMr Quems *** (Accra)\\n\\n4.5/5\\n\\nMy husband and I love this product! Definitely leaves our teeth and breath feeling the freshest. It does help whiten your teeth but not overnight so don’t expect that. But we do love it and continue to use it\\n\\nKojo *** (Central Region)\\n\\n5/5\\n\\nHeard this was amazing and so far so am getting good compliments everywhere I go for my white teeth\\n\\nEmmanuel *** (Western)\\n\\n4.5/5\\n\\nI have reordered this item a number of times already due to how well it works!\\n\\nNeed Help?\\n\\nCHAT OUR CUSTOMER CARE LINE\\n\\n+233263034095\\n\\nOur Customer Care Will Call You Within 24hrs After You Place Your Order.\\n\\nPLEASE DON’T COMPLETE THIS FORM IF YOU ARE NOT FINANCIALLY READY, OR IF YOU ARE TRAVELLING, OR IF YOU ARE NOT READY TO RECEIVE THE PRODUCT. THANKS!!!!!!!\\n\\nDisclaimer: This site is not a part of Facebook website or Facebook Inc. Additionally, this site is NOT endorsed by Facebook in any way. FACEBOOK is a trademark of FACEBOOK Inc.\\n\\nThe Contents Of This Website, Text, Images, Products Are Sold Or Distributed By Opago Ltd and Protected Under The Ghanaian Copyright Act Pursuant To Ghana And International Copyright Laws. Copy/Edit/Use Of Our Contents Without My Express Written Permission And You WILL Be Subject To The Maximum Fine/Penalty Imposed By The Law.\\n\\nWant That Healthy Set Of Teeth?   Get This Amazing 4in1 Teeth Powder TODAY\\n\\nYes! I'm Interested NOW!!!\\n\\nScroll to Top\", metadata={'source': 'https://spurshop.com.ng/'}),\n",
       " Document(page_content='Skip to content\\n\\nFREE SHIPPING NATIONWIDE\\n\\nHeal Pile (Hemorrhoids)\\n\\nOur hemorrhoids ointment is a proven and effective product that is made with natural ingredients that have been used for thousands of years to cure hemorrhoids\\n\\nBUY 1 GET 1 FREE (2pcs):\\xa0KES 2,700\\n\\nBUY 2 GET 2 FREE (4pcs):\\xa0KES 4,400\\n\\nBUY 3 GET 3 FREE (6pcs):\\xa0KES 6,200\\n\\n👉 PLACE YOUR ORDER NOW\\n\\nHemorrhoids are SO painful and embarrassing. I’m talking second degree burning, itching, swelling, bleeding… it can totally ruin your life!\\n\\nYou’ve tried creams, prodding tubes, and needling sticks… what do you have to lose by giving this a shot?\\n\\nDon’t wait another second – click here and get an extra 50% OFF TODAY!\\n\\nLIMITED STOCK AVAILABLE!!!\\n\\nDIFFERENT GRADES OF PILE\\n\\nYou have most likely gone through one of these stages or grades of hemorrhoids (Pile):\\n\\nGrade 1 Pile: These are small inflammation and swelling in the anus, they are not always visible but you can feel it.\\n\\nGrade 2 Pile: At this point, it has progressed to a small swelling that only comes out after a long period of stooling, but it returns inside without any assistance.\\n\\nGrade 3 Pile: This is the grade when it can be seen and felt outside the anus, but at this stage, you can easily push back inside with your hand, especially after using the toilet… this stage is extremely dangerous.\\n\\nGrade 4 Pile: This is the stage where the doctor advises surgery because you are at risk of anal cancer!\\n\\nEvery human being has hemorrhoids, because they are simply pillow-like veins located in the lower part of the rectum, around the anus, that aid in the passage of stools whenever you visit the toilet. However, what we commonly refer to as “hemorrhoids” occur when these veins become inflamed or swollen, resulting in itching, bleeding, severe pain, and discomfort.\\n\\nIf the above symptoms sound familiar, you most likely have hemorrhoids (Pile), but you have nothing to be ashamed of or concerned about because it is a condition that affects millions of men and women of all ages, and because you have now found this post, your healing is just waiting for you to take action right away.\\n\\nPlease Take Action Now By Clicking This Link.\\n\\nSave Yourself Pains and The Risk of Surgery Later with Unnecessary Expenses With Dictamni Anti-bacterial Cream\\n\\nDictamni Anti-bacteria Cream has effective anti-inflammatory, astringent and antiseptic herbal properties to stimulate the anal skin healing process. It also helps to restore dilated and inflamed veins to normal conditions.\\n\\nOrganic herbs contained in Dictamni improve blood flow to the rectal area and repair damaged tissues. Also, the ingredients contain emollient properties that keep bowel movement moist and stimulate rapid granulation and formation of new tissues. They give a cooling sensation and soothing effect to calm inflamed tissues immediately upon contact. No Surgery, No Drugs, No Chemicals, and Most Importantly, No Pain.\\n\\nOur product promotes long-term healing, versus other products that only provide temporary treatment of symptoms. This is due to the combination of powerful healing herbs that contain healing and vasoconstriction properties.\\n\\nNo Alcohol, No Pigment, Lead-Free, Mercury-Free, No Chemical Fragrances Added, 100% Natural Extract, Safe With No Side Effects.\\n\\nREAL CUSTOMERS, REAL RESULTS!\\n\\nBUY 1 GET 1 FREE (2pcs):\\xa0KES 2,700\\n\\nBUY 2 GET 2 FREE (4pcs):\\xa0KES 4,400\\n\\nBUY 3 GET 3 FREE (6pcs):\\xa0KES 6,200\\n\\n👉 PLACE YOUR ORDER NOW\\n\\nAfter relief from the symptoms, please follow our tips to avoid/prevent future occurences\\n\\nDisclaimerThis site is not a part of Facebook website or Facebook Inc. Additionally, this site is NOT endorsed by Facebook in any way. FACEBOOK is a trademark of FACEBOOK Inc.\\n\\nORDER NOW\\n\\nScroll to Top', metadata={'source': 'https://spurshop.com.ng/dictamni-kenya/'}),\n",
       " Document(page_content='Skip to content\\n\\nCASH ON DELIVERY\\n\\nINTRODUCING!!!\\n\\nLCD WRITING TABLET\\n\\nEASTER SALES ONGOING!\\n\\nPrevious\\n\\nNext\\n\\nYes! I Want To Buy Now\\n\\nThe Drawing Board is an outstanding educational aid. It allows children to express their imagination, creativity and development. It’s the ideal gift for your kid, you can tell them to study hard, but with this drawing board, they will study happily!\\n\\nYou’ll Never Run Out of Paper. GET ONE NOW!!!\\n\\nIt is not only suitable for school use and office work, but also play. Children can use it in order to develop their talent. Using the drawing board, children can practice writing and drawing skills, make cartoons, pictures, videos and share with families.\\n\\nYes! I Want To Buy Now\\n\\nNo Mess at Home\\n\\nThe magic board allows your kids happy to draw, paint, and scribble, just like a natural pen on paper, much fun with one button to magically erase to start a clean new face without making any mess.\\n\\nDurable and Longlasting\\n\\nThe magical drawing pads for kids are made of durable plastic, plus round corner design, anti-fall, and anti-shock, no need to worry kids drop it. easy to carry, place in school bags, handbags, travel bags.\\n\\nWhat Our Customers Are Saying\\n\\nP**e (Western)\\n\\n4.5/5\\n\\nMy 2year old granddaughter loves it. We have one in my house one at my Besty’s house one in her house. It’s a nice little pad for kids for the cost. It’s well made.\\n\\nBo****g (Kumasi)\\n\\n5/5\\n\\nWe ordered two sets of these to give as little gifts for our nieces and nephews. When they arrived I had my 9yo son try it out and he loves it. They make a much better alternative to a white board with not having to worry about marker stains. I also really like the compact size. Inside the package you get one set of two, two pieces of 3m double side tape and a warranty card.\\n\\nK**i (Kumasi)\\n\\n4.5/5\\n\\nI bought this pack for my niece and nephew (6 and 5 yrs old) and they love them. They write and erase nicely, I especially like that the stylus is attached so you don’t lose it.\\n\\nTi****y (Mombasa)\\n\\n4.5/5\\n\\nBought this set for my kids. As soon as they received, it kept them busy for a couple hours. My kids have been using it to practice drawing and their handwriting. It saves me on paper at the same time.\\n\\nM**y (Tema)\\n\\n5/5\\n\\nBought these for my son and niece. They absolutely love them and won\\'t put them down. Very easy to use and hours of entertainment. Would highly recommend these. I even like to doodle around on them.\\n\\nJe*****r (Lagos)\\n\\n4.5/5\\n\\nLove the fact that it comes with pen strings and replacement batteries. That’s very thoughtful. It’s relative thin compared to some other model, which is good and bad. Good because it’s lightweight and portable. Good for doodling on the go.\\n\\nYes! I Want To Buy Now\\n\\nIf You Order From Us Today, You Will Recieve Our Instant Delivery to Your Doorstep!\\n\\nCHOOSE YOUR PACKAGE\\n\\nREGULAR\\n\\nBUY ONE\\n\\nINSTANT DELIVERY\\n\\n30 DAYS GUARANTEE\\n\\nGHC 150\\n\\nGHC 250\\n\\nYes! I Want To Buy Now\\n\\nSILVER\\n\\nBUY TWO\\n\\nINSTANT DELIVERY\\n\\n30 DAYS GUARANTEE\\n\\nGHC 300\\n\\nGHC 500\\n\\nYes! I Want To Buy Now\\n\\nFAMILY\\n\\nBUY THREE\\n\\nINSTANT DELIVERY\\n\\n30 DAYS GUARANTEE\\n\\nGHC 450\\n\\nGHC 750\\n\\nYes! I Want To Buy Now\\n\\nWhy You Should Place Your Order Now\\n\\nWe offer a 30 days Guarantee. Unhappy with your product? We\\'ll take it back!!!\\n\\nWe stand by our high-quality products and your satisfaction is 100% guaranteed\\n\\nWe have a few pieces left. Place Your Order Now While You Can!\\n\\nYes! I Want To Buy Now\\n\\nPLEASE NOTE!!!\\n\\nPlease be sure you are FULLY ready for the product and have the money to pay at the point of delivery because we’ve limited stock.\\n\\nHERE ARE OTHER HAPPY CUSTOMERS REVIEWS\\n\\nJ****a (Central Region)\\n\\n4.5/5\\n\\nIt is really good for kids and the ones that you want to put in your kitchen to take notes or buy lists 🙂 I am happy with the price and purchase so far.\\n\\nKa*****a (Lagos)\\n\\n5/5\\n\\nCool little tablets! Could be used as toys for kids or adults, for doodling, or for games like battleship, hangman, and tictactoe. These also have a \"lock\" switch in the back that prevents the image from being erased. Strong self-adhesive magnets are included for attaching these to a fridge or anything metal.\\n\\nEm******l (Nairobi)\\n\\n4.5/5\\n\\nThe tablet is very thin and easy to use and take with you. This works great for all these current day Zoom meetings and helping kids with homework. Why waste tons of paper on doodles and scratch paper? The thickness is great to attach to the fridge with 3m tape and leave notes.\\n\\nNeed Help?\\n\\nCHAT OUR CUSTOMER CARE LINE\\n\\n+233263034095\\n\\nOur Customer Care Will Call You Within 24hrs After You Place Your Order.\\n\\nPLEASE DON’T COMPLETE THIS FORM IF YOU ARE NOT FINANCIALLY READY, OR IF YOU ARE TRAVELLING, OR IF YOU ARE NOT READY TO RECEIVE THE PRODUCT. THANKS!!!!!!!\\n\\nDisclaimer: This site is not a part of Facebook website or Facebook Inc. Additionally, this site is NOT endorsed by Facebook in any way. FACEBOOK is a trademark of FACEBOOK Inc.\\n\\nThe Contents Of This Website, Text, Images, Products Are Sold Or Distributed By Opago Ltd and Protected Under The Ghanaian Copyright Act Pursuant To Ghana And International Copyright Laws. Copy/Edit/Use Of Our Contents Without My Express Written Permission And You WILL Be Subject To The Maximum Fine/Penalty Imposed By The Law.\\n\\nORDER NOW\\n\\nScroll to Top', metadata={'source': 'https://spurshop.com.ng/tablet/'}),\n",
       " Document(page_content='Skip to content\\n\\nScroll to Top', metadata={'source': 'https://spurshop.com.ng/dictamni-thanks/'})]"
      ]
     },
     "execution_count": 4,
     "metadata": {},
     "output_type": "execute_result"
    }
   ],
   "source": [
    "# Load texts from urls\n",
    "urls = [\n",
    "  'https://spurshop.com.ng/',\n",
    "  'https://spurshop.com.ng/dictamni-kenya/',\n",
    "  'https://spurshop.com.ng/tablet/',\n",
    "  'https://spurshop.com.ng/dictamni-thanks/'\n",
    "  ]\n",
    "loaders = UnstructuredURLLoader(urls=urls)\n",
    "data = loaders.load()\n",
    "data"
   ]
  },
  {
   "cell_type": "code",
   "execution_count": 5,
   "metadata": {},
   "outputs": [],
   "source": [
    "# Split data in chunks\n",
    "text_splitter = CharacterTextSplitter(\n",
    "    separator = \"\\n\\n\",\n",
    "    chunk_size = 1000,\n",
    "    chunk_overlap  = 200,\n",
    ")\n",
    "docs = text_splitter.split_documents(data)"
   ]
  },
  {
   "cell_type": "code",
   "execution_count": 6,
   "metadata": {},
   "outputs": [
    {
     "data": {
      "text/plain": [
       "24"
      ]
     },
     "execution_count": 6,
     "metadata": {},
     "output_type": "execute_result"
    }
   ],
   "source": [
    "len(docs)"
   ]
  },
  {
   "cell_type": "code",
   "execution_count": 7,
   "metadata": {},
   "outputs": [
    {
     "data": {
      "text/plain": [
       "[Document(page_content='Skip to content\\n\\n(40% Discount + FREE DELIVERY Today)\\n\\nUltimate\\n\\n4in1\\n\\nEssential Teeth\\n\\nPowder\\n\\nPrevious\\n\\nNext\\n\\nListen, just pay attention and you will see the magic in few days from now\\n\\nDiscover how to remove toxins/diseases from your teeth, eradicate bad breath/mouth odour, fight tooth diseases and WHITEN your teeth permanently....\\n\\nYou have tried whitening toothpaste, whitening strips, and even bleaching trays but you are still sporting those dingy, yellowish looking teeth. Are you doing it all wrong? Are your teeth just destined to be dingy?\\n\\nLet’s look at some things that might keep your teeth whitening treatment from working.\\n\\nThe Number 1 Reason Dental restorations, such as crowns or veneers, DO NOT respond to tooth whitening products. If you have any of these restorations, especially in your front teeth, they will not whiten with bleaching products.', metadata={'source': 'https://spurshop.com.ng/'}),\n",
       " Document(page_content='Number 2 Reason Is That Those Products Did Not Contain Activated Pearl Powder Which Actually Has The Ability To Deal With Tooth Stains.\\n\\nThe Number 3 Reason Is That They Lie That It Would Give You A Fresh Breathe, Meanwhile It Does Not Contain The Complete Formula Needed To Make That Happen. The Truth Is, For You To Completely Eliminate Bad Breath You Need To Use Menthol, Ethlhexy & Lglycerin To Combat The Bacteria That Causes Bad Breath\\n\\nThe Number 4 Reason  If your teeth have biofilm or plaque buildup, this can prevent the bleaching agent from reaching the target stains.\\n\\nSo Why Have Over 2,142+ Happy Customers Thanked Us Or Referred Us To Other Customers?\\n\\nIt Is Because, We Ensured That We Found A Product That Contains Activated Sea Pearl Powder Which Helps To Clean & Brighten The Teeth\\n\\nAnd Because We Are More Concerned About Your Long-lasting Result, We Made Sure That Customers That Order 2 Or More Will Get It For A Very Very Discounted Rate… (You can check for yourself)', metadata={'source': 'https://spurshop.com.ng/'}),\n",
       " Document(page_content='And Because We Are More Concerned About Your Long-lasting Result, We Made Sure That Customers That Order 2 Or More Will Get It For A Very Very Discounted Rate… (You can check for yourself)\\n\\nThe More You Use The Teeth Whitener, The Whiter The Teeth Becomes.\\n\\nYes! I Want To Buy Now\\n\\nSee Why You Need To Get This 4in1 Teeth Whitener\\n\\nUses the BRAND-NEW Activated Sea Pearl Powder to whiten and whiten the teeth while also making the breath fresher.\\n\\nContains pearl essence to ensure that no stain can stand its whitening effects.\\n\\nAnyone with yellow teeth or any form of stains can use it to whiten the teeth\\n\\nDoes not require water, just a toothbrush\\n\\nNoticeable results can be seen within 2 weeks of consistent use but for tooth aches, it is instant\\n\\nCleans all forms of dirt in the teeth\\n\\nForms an external protection for the teeth and gums against germs\\n\\nBoth male and female can use\\n\\n100% safe and natural with no side effects.', metadata={'source': 'https://spurshop.com.ng/'}),\n",
       " Document(page_content='Cleans all forms of dirt in the teeth\\n\\nForms an external protection for the teeth and gums against germs\\n\\nBoth male and female can use\\n\\n100% safe and natural with no side effects.\\n\\nPlease note that the results you saw in the video and will see on this page are not instant but due to consistent usage of the powder for few weeks.\\n\\nSee The Ultimate Tooth Whitening Powder™ In Action...\\n\\nYes! I Want To Buy Now\\n\\nSee What Some Customers Are Saying About This Amazing Teeth Whitener™\\n\\nChisom *** (Kumasi)\\n\\n4.5/5\\n\\nUsing this product has given me great relief. I have been having a reoccuring tooth ache for a very long time now. I tried different products but nothing changed. Just two times use of this product has given great relief. I can now boldly say that my tooth ache is gone!\\n\\nStephenie *** (Western)\\n\\n5/5', metadata={'source': 'https://spurshop.com.ng/'}),\n",
       " Document(page_content='Stephenie *** (Western)\\n\\n5/5\\n\\nYes, it is messy, but the results in just 3 weeks are much better than I expected since I’ve had no luck with anything that costs this little. Plus, you have to brush your teeth anyway, right? I use an electric toothbrush. Already my teeth are whiter than they’ve been this century.\\n\\nKofi *** (Kumasi)\\n\\n4.5/5\\n\\nI don’t like the taste but it’s only for five minutes of brushing and it’s very easy to use. It definitely worked wonders on my teeth after using for a month now. It WORKS!! I went from yellowish brown (thanks to my daily coffee 😔) to a couple shades brighter! I’m not where I want to be yet but it’s definitely getting there!! Other whitening products haven’t worked for me but this has!!!\\n\\nMathew *** (Accra)\\n\\n4.5/5\\n\\nI use this product all the time. And get good results\\n\\nQuao *** (Volta)\\n\\n5/5\\n\\nIt actually does whiten teeth. Flavor and freshness are very good. Better than expected. Highly recommend.\\n\\nLoveth *** (Tema)\\n\\n4.5/5', metadata={'source': 'https://spurshop.com.ng/'}),\n",
       " Document(page_content='Quao *** (Volta)\\n\\n5/5\\n\\nIt actually does whiten teeth. Flavor and freshness are very good. Better than expected. Highly recommend.\\n\\nLoveth *** (Tema)\\n\\n4.5/5\\n\\nGreat product, whitens my teeth noticeably, much less expensive than all the teeth medications i have been visitning the spa for.\\n\\nHere Is Why You Should Have This Amazing Teeth Whitener™ In Your Home Today\\n\\nClears Toxins and Germs Completely\\n\\nThis 4in1 essential tooth whitening powder clears toxins and germs completely. Just incase you are having tooth rot/decay, tooth ache/sores, this is the best herbal powder for you. The active ingredients contained in this powder fights everything off completely.\\n\\nEliminates The Need For Use Of Toothpastes', metadata={'source': 'https://spurshop.com.ng/'}),\n",
       " Document(page_content='Eliminates The Need For Use Of Toothpastes\\n\\nNo need to worry about stained, discolored or yellow teeth, even if your teeth is white already, it can still be whiter by using this often, now you can confidently stop looking for the next teeth whitening product to get, after you get this the first time, you will definitely keep coming back for more as we have experienced with previous customers…\\n\\nContains A Sufficient Amount Of Concentrate To Give You The Teeth That Guarantees A Great Smile\\n\\nThe Amazing Teeth Whitener™ contains sufficient amounts of concentrate to penetrate the thicker enamel of any teeth to deal with any coloration and stains in the teeth.\\n\\nProtects Your Teeth & Gums, Leaving You WIth Fresh Breathe\\n\\nThe blades allow flexibility to easily cut, slice, shred, chop fruits and vegetables in shapes and sizes. Such as a potato, you can make it into wavy or normal slices, strips or mash it easily.\\n\\nGuaranteed To Give You Instant Results', metadata={'source': 'https://spurshop.com.ng/'}),\n",
       " Document(page_content='Guaranteed To Give You Instant Results\\n\\nThe Amazing Teeth Whitener has some unique combinations not seen in most teeth whiteners due to a blend of activated Sea Pearl Powder and particularized Ethyhexy Gllycerin specially designed to clean tooth surfaces and also protect the teeth and gums respectively.\\n\\nResults become visible within 2 weeks of consistent daily usage of at least once a day.\\n\\nYes! I Want To Buy Now\\n\\nHow To Use This Amazing Teeth Whitener\\n\\nThe Amazing Teeth Whitener is easy and straight-forward to use and visible results can be seen within 2 weeks of consistent use. The steps below shows how to use it:\\n\\nRinse the mouth and your toothbrush\\n\\nApply the Amazing Teeth Whitener powder on the brush by inserting the brush into the container\\n\\nBrush your teeth the normal way for about 2-5 minutes, no need for water or toothpaste, it works on its own.', metadata={'source': 'https://spurshop.com.ng/'}),\n",
       " Document(page_content=\"Brush your teeth the normal way for about 2-5 minutes, no need for water or toothpaste, it works on its own.\\n\\nWait for about 2-3 minutes after you are done brushing, do not rinse immediately, you can just spit out the foam and then rinse after 2-3 minutes.\\n\\nThis should be done in the morning and in the night.\\n\\nYes! I Want To Buy Now\\n\\nIf You Order From Us Today, You Will Recieve Our Instant Free Delivery to Your Doorstep!\\n\\nCHOOSE YOUR PACKAGE\\n\\nREGULAR\\n\\nBUY ONE\\n\\nFREE DELIVERY\\n\\n30 DAYS GUARANTEE\\n\\nGHC 150\\n\\nYes! I Want To Buy Now\\n\\nSILVER\\n\\nBUY TWO\\n\\nFREE DELIVERY\\n\\n30 DAYS GUARANTEE\\n\\nGHC 280\\n\\nYes! I Want To Buy Now\\n\\nFAMILY\\n\\nBUY THREE\\n\\nFREE DELIVERY\\n\\n30 DAYS GUARANTEE\\n\\nGHC 400\\n\\nYes! I Want To Buy Now\\n\\nYes! I Want To Buy Now\\n\\nWhy You Should Place Your Order Now\\n\\nWe offer a 30 days Guarantee. Unhappy with your product? We'll take it back!!!\\n\\nWe offer a 30 days GWe stand by our high-quality products and your satisfaction is 100% guaranteed.uarantee. Unhappy with your product? We'll take it back!!!\", metadata={'source': 'https://spurshop.com.ng/'}),\n",
       " Document(page_content=\"We offer a 30 days GWe stand by our high-quality products and your satisfaction is 100% guaranteed.uarantee. Unhappy with your product? We'll take it back!!!\\n\\nWe have a few pieces left. Place Your Order Now While You Can!\\n\\nYes! I Want To Buy Now\\n\\nPLEASE NOTE!!!\\n\\nPlease be sure you are FULLY ready for the product and have the money to pay at the point of delivery because we’ve limited stock.\\n\\nHERE ARE OTHER HAPPY CUSTOMERS REVIEWS\\n\\nMr Quems *** (Accra)\\n\\n4.5/5\\n\\nMy husband and I love this product! Definitely leaves our teeth and breath feeling the freshest. It does help whiten your teeth but not overnight so don’t expect that. But we do love it and continue to use it\\n\\nKojo *** (Central Region)\\n\\n5/5\\n\\nHeard this was amazing and so far so am getting good compliments everywhere I go for my white teeth\\n\\nEmmanuel *** (Western)\\n\\n4.5/5\\n\\nI have reordered this item a number of times already due to how well it works!\\n\\nNeed Help?\\n\\nCHAT OUR CUSTOMER CARE LINE\\n\\n+233263034095\", metadata={'source': 'https://spurshop.com.ng/'}),\n",
       " Document(page_content='Emmanuel *** (Western)\\n\\n4.5/5\\n\\nI have reordered this item a number of times already due to how well it works!\\n\\nNeed Help?\\n\\nCHAT OUR CUSTOMER CARE LINE\\n\\n+233263034095\\n\\nOur Customer Care Will Call You Within 24hrs After You Place Your Order.\\n\\nPLEASE DON’T COMPLETE THIS FORM IF YOU ARE NOT FINANCIALLY READY, OR IF YOU ARE TRAVELLING, OR IF YOU ARE NOT READY TO RECEIVE THE PRODUCT. THANKS!!!!!!!\\n\\nDisclaimer: This site is not a part of Facebook website or Facebook Inc. Additionally, this site is NOT endorsed by Facebook in any way. FACEBOOK is a trademark of FACEBOOK Inc.\\n\\nThe Contents Of This Website, Text, Images, Products Are Sold Or Distributed By Opago Ltd and Protected Under The Ghanaian Copyright Act Pursuant To Ghana And International Copyright Laws. Copy/Edit/Use Of Our Contents Without My Express Written Permission And You WILL Be Subject To The Maximum Fine/Penalty Imposed By The Law.\\n\\nWant That Healthy Set Of Teeth?   Get This Amazing 4in1 Teeth Powder TODAY', metadata={'source': 'https://spurshop.com.ng/'}),\n",
       " Document(page_content=\"Want That Healthy Set Of Teeth?   Get This Amazing 4in1 Teeth Powder TODAY\\n\\nYes! I'm Interested NOW!!!\\n\\nScroll to Top\", metadata={'source': 'https://spurshop.com.ng/'}),\n",
       " Document(page_content='Skip to content\\n\\nFREE SHIPPING NATIONWIDE\\n\\nHeal Pile (Hemorrhoids)\\n\\nOur hemorrhoids ointment is a proven and effective product that is made with natural ingredients that have been used for thousands of years to cure hemorrhoids\\n\\nBUY 1 GET 1 FREE (2pcs):\\xa0KES 2,700\\n\\nBUY 2 GET 2 FREE (4pcs):\\xa0KES 4,400\\n\\nBUY 3 GET 3 FREE (6pcs):\\xa0KES 6,200\\n\\n👉 PLACE YOUR ORDER NOW\\n\\nHemorrhoids are SO painful and embarrassing. I’m talking second degree burning, itching, swelling, bleeding… it can totally ruin your life!\\n\\nYou’ve tried creams, prodding tubes, and needling sticks… what do you have to lose by giving this a shot?\\n\\nDon’t wait another second – click here and get an extra 50% OFF TODAY!\\n\\nLIMITED STOCK AVAILABLE!!!\\n\\nDIFFERENT GRADES OF PILE\\n\\nYou have most likely gone through one of these stages or grades of hemorrhoids (Pile):\\n\\nGrade 1 Pile: These are small inflammation and swelling in the anus, they are not always visible but you can feel it.', metadata={'source': 'https://spurshop.com.ng/dictamni-kenya/'}),\n",
       " Document(page_content='Grade 1 Pile: These are small inflammation and swelling in the anus, they are not always visible but you can feel it.\\n\\nGrade 2 Pile: At this point, it has progressed to a small swelling that only comes out after a long period of stooling, but it returns inside without any assistance.\\n\\nGrade 3 Pile: This is the grade when it can be seen and felt outside the anus, but at this stage, you can easily push back inside with your hand, especially after using the toilet… this stage is extremely dangerous.\\n\\nGrade 4 Pile: This is the stage where the doctor advises surgery because you are at risk of anal cancer!\\n\\nEvery human being has hemorrhoids, because they are simply pillow-like veins located in the lower part of the rectum, around the anus, that aid in the passage of stools whenever you visit the toilet. However, what we commonly refer to as “hemorrhoids” occur when these veins become inflamed or swollen, resulting in itching, bleeding, severe pain, and discomfort.', metadata={'source': 'https://spurshop.com.ng/dictamni-kenya/'}),\n",
       " Document(page_content='If the above symptoms sound familiar, you most likely have hemorrhoids (Pile), but you have nothing to be ashamed of or concerned about because it is a condition that affects millions of men and women of all ages, and because you have now found this post, your healing is just waiting for you to take action right away.\\n\\nPlease Take Action Now By Clicking This Link.\\n\\nSave Yourself Pains and The Risk of Surgery Later with Unnecessary Expenses With Dictamni Anti-bacterial Cream\\n\\nDictamni Anti-bacteria Cream has effective anti-inflammatory, astringent and antiseptic herbal properties to stimulate the anal skin healing process. It also helps to restore dilated and inflamed veins to normal conditions.', metadata={'source': 'https://spurshop.com.ng/dictamni-kenya/'}),\n",
       " Document(page_content='Organic herbs contained in Dictamni improve blood flow to the rectal area and repair damaged tissues. Also, the ingredients contain emollient properties that keep bowel movement moist and stimulate rapid granulation and formation of new tissues. They give a cooling sensation and soothing effect to calm inflamed tissues immediately upon contact. No Surgery, No Drugs, No Chemicals, and Most Importantly, No Pain.\\n\\nOur product promotes long-term healing, versus other products that only provide temporary treatment of symptoms. This is due to the combination of powerful healing herbs that contain healing and vasoconstriction properties.\\n\\nNo Alcohol, No Pigment, Lead-Free, Mercury-Free, No Chemical Fragrances Added, 100% Natural Extract, Safe With No Side Effects.\\n\\nREAL CUSTOMERS, REAL RESULTS!\\n\\nBUY 1 GET 1 FREE (2pcs):\\xa0KES 2,700\\n\\nBUY 2 GET 2 FREE (4pcs):\\xa0KES 4,400\\n\\nBUY 3 GET 3 FREE (6pcs):\\xa0KES 6,200\\n\\n👉 PLACE YOUR ORDER NOW', metadata={'source': 'https://spurshop.com.ng/dictamni-kenya/'}),\n",
       " Document(page_content='REAL CUSTOMERS, REAL RESULTS!\\n\\nBUY 1 GET 1 FREE (2pcs):\\xa0KES 2,700\\n\\nBUY 2 GET 2 FREE (4pcs):\\xa0KES 4,400\\n\\nBUY 3 GET 3 FREE (6pcs):\\xa0KES 6,200\\n\\n👉 PLACE YOUR ORDER NOW\\n\\nAfter relief from the symptoms, please follow our tips to avoid/prevent future occurences\\n\\nDisclaimerThis site is not a part of Facebook website or Facebook Inc. Additionally, this site is NOT endorsed by Facebook in any way. FACEBOOK is a trademark of FACEBOOK Inc.\\n\\nORDER NOW\\n\\nScroll to Top', metadata={'source': 'https://spurshop.com.ng/dictamni-kenya/'}),\n",
       " Document(page_content='Skip to content\\n\\nCASH ON DELIVERY\\n\\nINTRODUCING!!!\\n\\nLCD WRITING TABLET\\n\\nEASTER SALES ONGOING!\\n\\nPrevious\\n\\nNext\\n\\nYes! I Want To Buy Now\\n\\nThe Drawing Board is an outstanding educational aid. It allows children to express their imagination, creativity and development. It’s the ideal gift for your kid, you can tell them to study hard, but with this drawing board, they will study happily!\\n\\nYou’ll Never Run Out of Paper. GET ONE NOW!!!\\n\\nIt is not only suitable for school use and office work, but also play. Children can use it in order to develop their talent. Using the drawing board, children can practice writing and drawing skills, make cartoons, pictures, videos and share with families.\\n\\nYes! I Want To Buy Now\\n\\nNo Mess at Home\\n\\nThe magic board allows your kids happy to draw, paint, and scribble, just like a natural pen on paper, much fun with one button to magically erase to start a clean new face without making any mess.\\n\\nDurable and Longlasting', metadata={'source': 'https://spurshop.com.ng/tablet/'}),\n",
       " Document(page_content='Durable and Longlasting\\n\\nThe magical drawing pads for kids are made of durable plastic, plus round corner design, anti-fall, and anti-shock, no need to worry kids drop it. easy to carry, place in school bags, handbags, travel bags.\\n\\nWhat Our Customers Are Saying\\n\\nP**e (Western)\\n\\n4.5/5\\n\\nMy 2year old granddaughter loves it. We have one in my house one at my Besty’s house one in her house. It’s a nice little pad for kids for the cost. It’s well made.\\n\\nBo****g (Kumasi)\\n\\n5/5\\n\\nWe ordered two sets of these to give as little gifts for our nieces and nephews. When they arrived I had my 9yo son try it out and he loves it. They make a much better alternative to a white board with not having to worry about marker stains. I also really like the compact size. Inside the package you get one set of two, two pieces of 3m double side tape and a warranty card.\\n\\nK**i (Kumasi)\\n\\n4.5/5', metadata={'source': 'https://spurshop.com.ng/tablet/'}),\n",
       " Document(page_content=\"K**i (Kumasi)\\n\\n4.5/5\\n\\nI bought this pack for my niece and nephew (6 and 5 yrs old) and they love them. They write and erase nicely, I especially like that the stylus is attached so you don’t lose it.\\n\\nTi****y (Mombasa)\\n\\n4.5/5\\n\\nBought this set for my kids. As soon as they received, it kept them busy for a couple hours. My kids have been using it to practice drawing and their handwriting. It saves me on paper at the same time.\\n\\nM**y (Tema)\\n\\n5/5\\n\\nBought these for my son and niece. They absolutely love them and won't put them down. Very easy to use and hours of entertainment. Would highly recommend these. I even like to doodle around on them.\\n\\nJe*****r (Lagos)\\n\\n4.5/5\\n\\nLove the fact that it comes with pen strings and replacement batteries. That’s very thoughtful. It’s relative thin compared to some other model, which is good and bad. Good because it’s lightweight and portable. Good for doodling on the go.\\n\\nYes! I Want To Buy Now\", metadata={'source': 'https://spurshop.com.ng/tablet/'}),\n",
       " Document(page_content=\"Yes! I Want To Buy Now\\n\\nIf You Order From Us Today, You Will Recieve Our Instant Delivery to Your Doorstep!\\n\\nCHOOSE YOUR PACKAGE\\n\\nREGULAR\\n\\nBUY ONE\\n\\nINSTANT DELIVERY\\n\\n30 DAYS GUARANTEE\\n\\nGHC 150\\n\\nGHC 250\\n\\nYes! I Want To Buy Now\\n\\nSILVER\\n\\nBUY TWO\\n\\nINSTANT DELIVERY\\n\\n30 DAYS GUARANTEE\\n\\nGHC 300\\n\\nGHC 500\\n\\nYes! I Want To Buy Now\\n\\nFAMILY\\n\\nBUY THREE\\n\\nINSTANT DELIVERY\\n\\n30 DAYS GUARANTEE\\n\\nGHC 450\\n\\nGHC 750\\n\\nYes! I Want To Buy Now\\n\\nWhy You Should Place Your Order Now\\n\\nWe offer a 30 days Guarantee. Unhappy with your product? We'll take it back!!!\\n\\nWe stand by our high-quality products and your satisfaction is 100% guaranteed\\n\\nWe have a few pieces left. Place Your Order Now While You Can!\\n\\nYes! I Want To Buy Now\\n\\nPLEASE NOTE!!!\\n\\nPlease be sure you are FULLY ready for the product and have the money to pay at the point of delivery because we’ve limited stock.\\n\\nHERE ARE OTHER HAPPY CUSTOMERS REVIEWS\\n\\nJ****a (Central Region)\\n\\n4.5/5\", metadata={'source': 'https://spurshop.com.ng/tablet/'}),\n",
       " Document(page_content='HERE ARE OTHER HAPPY CUSTOMERS REVIEWS\\n\\nJ****a (Central Region)\\n\\n4.5/5\\n\\nIt is really good for kids and the ones that you want to put in your kitchen to take notes or buy lists 🙂 I am happy with the price and purchase so far.\\n\\nKa*****a (Lagos)\\n\\n5/5\\n\\nCool little tablets! Could be used as toys for kids or adults, for doodling, or for games like battleship, hangman, and tictactoe. These also have a \"lock\" switch in the back that prevents the image from being erased. Strong self-adhesive magnets are included for attaching these to a fridge or anything metal.\\n\\nEm******l (Nairobi)\\n\\n4.5/5\\n\\nThe tablet is very thin and easy to use and take with you. This works great for all these current day Zoom meetings and helping kids with homework. Why waste tons of paper on doodles and scratch paper? The thickness is great to attach to the fridge with 3m tape and leave notes.\\n\\nNeed Help?\\n\\nCHAT OUR CUSTOMER CARE LINE\\n\\n+233263034095\\n\\nOur Customer Care Will Call You Within 24hrs After You Place Your Order.', metadata={'source': 'https://spurshop.com.ng/tablet/'}),\n",
       " Document(page_content='Need Help?\\n\\nCHAT OUR CUSTOMER CARE LINE\\n\\n+233263034095\\n\\nOur Customer Care Will Call You Within 24hrs After You Place Your Order.\\n\\nPLEASE DON’T COMPLETE THIS FORM IF YOU ARE NOT FINANCIALLY READY, OR IF YOU ARE TRAVELLING, OR IF YOU ARE NOT READY TO RECEIVE THE PRODUCT. THANKS!!!!!!!\\n\\nDisclaimer: This site is not a part of Facebook website or Facebook Inc. Additionally, this site is NOT endorsed by Facebook in any way. FACEBOOK is a trademark of FACEBOOK Inc.\\n\\nThe Contents Of This Website, Text, Images, Products Are Sold Or Distributed By Opago Ltd and Protected Under The Ghanaian Copyright Act Pursuant To Ghana And International Copyright Laws. Copy/Edit/Use Of Our Contents Without My Express Written Permission And You WILL Be Subject To The Maximum Fine/Penalty Imposed By The Law.\\n\\nORDER NOW\\n\\nScroll to Top', metadata={'source': 'https://spurshop.com.ng/tablet/'}),\n",
       " Document(page_content='Skip to content\\n\\nScroll to Top', metadata={'source': 'https://spurshop.com.ng/dictamni-thanks/'})]"
      ]
     },
     "execution_count": 7,
     "metadata": {},
     "output_type": "execute_result"
    }
   ],
   "source": [
    "docs"
   ]
  },
  {
   "cell_type": "code",
   "execution_count": 8,
   "metadata": {},
   "outputs": [],
   "source": [
    "# Initialize OpenAI Embeddings\n",
    "embeddings = OpenAIEmbeddings()\n",
    "\n",
    "# Store embeddings in vector database\n",
    "vectorstore = FAISS.from_documents(docs, embeddings)"
   ]
  },
  {
   "cell_type": "code",
   "execution_count": 9,
   "metadata": {},
   "outputs": [],
   "source": [
    "# Save vectorstore in local storage\n",
    "with open('website_vector_store.pkl', 'wb') as f:\n",
    "  pickle.dump(vectorstore, f)"
   ]
  },
  {
   "cell_type": "code",
   "execution_count": 10,
   "metadata": {},
   "outputs": [],
   "source": [
    "# Load vectorstore\n",
    "with open('website_vector_store.pkl', 'rb') as f:\n",
    "  vectorestore = pickle.load(f)"
   ]
  },
  {
   "cell_type": "code",
   "execution_count": 11,
   "metadata": {},
   "outputs": [],
   "source": [
    "\n",
    "llm = ChatOpenAI(model_name=\"gpt-3.5-turbo\")"
   ]
  },
  {
   "cell_type": "code",
   "execution_count": 12,
   "metadata": {},
   "outputs": [],
   "source": [
    "question = \"Do you cure pile?\""
   ]
  },
  {
   "cell_type": "code",
   "execution_count": 13,
   "metadata": {},
   "outputs": [
    {
     "name": "stderr",
     "output_type": "stream",
     "text": [
      "INFO:langchain.retrievers.multi_query:Generated queries: ['1. Can you provide information on the treatment options for piles?', '2. What are the effective remedies for curing piles?', '3. Are there any recommended treatments available for piles?']\n",
      "WARNING:langchain.embeddings.openai:Retrying langchain.embeddings.openai.embed_with_retry.<locals>._embed_with_retry in 4.0 seconds as it raised RateLimitError: Rate limit reached for default-text-embedding-ada-002 in organization org-g7U7JTtbMZZLkHOXSRY2kGYg on requests per min. Limit: 3 / min. Please try again in 20s. Contact us through our help center at help.openai.com if you continue to have issues. Please add a payment method to your account to increase your rate limit. Visit https://platform.openai.com/account/billing to add a payment method..\n",
      "WARNING:langchain.embeddings.openai:Retrying langchain.embeddings.openai.embed_with_retry.<locals>._embed_with_retry in 4.0 seconds as it raised RateLimitError: Rate limit reached for default-text-embedding-ada-002 in organization org-g7U7JTtbMZZLkHOXSRY2kGYg on requests per min. Limit: 3 / min. Please try again in 20s. Contact us through our help center at help.openai.com if you continue to have issues. Please add a payment method to your account to increase your rate limit. Visit https://platform.openai.com/account/billing to add a payment method..\n",
      "WARNING:langchain.embeddings.openai:Retrying langchain.embeddings.openai.embed_with_retry.<locals>._embed_with_retry in 4.0 seconds as it raised RateLimitError: Rate limit reached for default-text-embedding-ada-002 in organization org-g7U7JTtbMZZLkHOXSRY2kGYg on requests per min. Limit: 3 / min. Please try again in 20s. Contact us through our help center at help.openai.com if you continue to have issues. Please add a payment method to your account to increase your rate limit. Visit https://platform.openai.com/account/billing to add a payment method..\n",
      "WARNING:langchain.embeddings.openai:Retrying langchain.embeddings.openai.embed_with_retry.<locals>._embed_with_retry in 8.0 seconds as it raised RateLimitError: Rate limit reached for default-text-embedding-ada-002 in organization org-g7U7JTtbMZZLkHOXSRY2kGYg on requests per min. Limit: 3 / min. Please try again in 20s. Contact us through our help center at help.openai.com if you continue to have issues. Please add a payment method to your account to increase your rate limit. Visit https://platform.openai.com/account/billing to add a payment method..\n"
     ]
    },
    {
     "data": {
      "text/plain": [
       "[Document(page_content='If the above symptoms sound familiar, you most likely have hemorrhoids (Pile), but you have nothing to be ashamed of or concerned about because it is a condition that affects millions of men and women of all ages, and because you have now found this post, your healing is just waiting for you to take action right away.\\n\\nPlease Take Action Now By Clicking This Link.\\n\\nSave Yourself Pains and The Risk of Surgery Later with Unnecessary Expenses With Dictamni Anti-bacterial Cream\\n\\nDictamni Anti-bacteria Cream has effective anti-inflammatory, astringent and antiseptic herbal properties to stimulate the anal skin healing process. It also helps to restore dilated and inflamed veins to normal conditions.', metadata={'source': 'https://spurshop.com.ng/dictamni-kenya/'}),\n",
       " Document(page_content='Skip to content\\n\\nFREE SHIPPING NATIONWIDE\\n\\nHeal Pile (Hemorrhoids)\\n\\nOur hemorrhoids ointment is a proven and effective product that is made with natural ingredients that have been used for thousands of years to cure hemorrhoids\\n\\nBUY 1 GET 1 FREE (2pcs):\\xa0KES 2,700\\n\\nBUY 2 GET 2 FREE (4pcs):\\xa0KES 4,400\\n\\nBUY 3 GET 3 FREE (6pcs):\\xa0KES 6,200\\n\\n👉 PLACE YOUR ORDER NOW\\n\\nHemorrhoids are SO painful and embarrassing. I’m talking second degree burning, itching, swelling, bleeding… it can totally ruin your life!\\n\\nYou’ve tried creams, prodding tubes, and needling sticks… what do you have to lose by giving this a shot?\\n\\nDon’t wait another second – click here and get an extra 50% OFF TODAY!\\n\\nLIMITED STOCK AVAILABLE!!!\\n\\nDIFFERENT GRADES OF PILE\\n\\nYou have most likely gone through one of these stages or grades of hemorrhoids (Pile):\\n\\nGrade 1 Pile: These are small inflammation and swelling in the anus, they are not always visible but you can feel it.', metadata={'source': 'https://spurshop.com.ng/dictamni-kenya/'}),\n",
       " Document(page_content='Grade 1 Pile: These are small inflammation and swelling in the anus, they are not always visible but you can feel it.\\n\\nGrade 2 Pile: At this point, it has progressed to a small swelling that only comes out after a long period of stooling, but it returns inside without any assistance.\\n\\nGrade 3 Pile: This is the grade when it can be seen and felt outside the anus, but at this stage, you can easily push back inside with your hand, especially after using the toilet… this stage is extremely dangerous.\\n\\nGrade 4 Pile: This is the stage where the doctor advises surgery because you are at risk of anal cancer!\\n\\nEvery human being has hemorrhoids, because they are simply pillow-like veins located in the lower part of the rectum, around the anus, that aid in the passage of stools whenever you visit the toilet. However, what we commonly refer to as “hemorrhoids” occur when these veins become inflamed or swollen, resulting in itching, bleeding, severe pain, and discomfort.', metadata={'source': 'https://spurshop.com.ng/dictamni-kenya/'}),\n",
       " Document(page_content='Organic herbs contained in Dictamni improve blood flow to the rectal area and repair damaged tissues. Also, the ingredients contain emollient properties that keep bowel movement moist and stimulate rapid granulation and formation of new tissues. They give a cooling sensation and soothing effect to calm inflamed tissues immediately upon contact. No Surgery, No Drugs, No Chemicals, and Most Importantly, No Pain.\\n\\nOur product promotes long-term healing, versus other products that only provide temporary treatment of symptoms. This is due to the combination of powerful healing herbs that contain healing and vasoconstriction properties.\\n\\nNo Alcohol, No Pigment, Lead-Free, Mercury-Free, No Chemical Fragrances Added, 100% Natural Extract, Safe With No Side Effects.\\n\\nREAL CUSTOMERS, REAL RESULTS!\\n\\nBUY 1 GET 1 FREE (2pcs):\\xa0KES 2,700\\n\\nBUY 2 GET 2 FREE (4pcs):\\xa0KES 4,400\\n\\nBUY 3 GET 3 FREE (6pcs):\\xa0KES 6,200\\n\\n👉 PLACE YOUR ORDER NOW', metadata={'source': 'https://spurshop.com.ng/dictamni-kenya/'})]"
      ]
     },
     "execution_count": 13,
     "metadata": {},
     "output_type": "execute_result"
    }
   ],
   "source": [
    "# Generate similar answers to question\n",
    "logging.basicConfig()\n",
    "logging.getLogger('langchain.retrievers.multi_query').setLevel(logging.INFO)\n",
    "retriever_from_llm = MultiQueryRetriever.from_llm(retriever=vectorstore.as_retriever(),\n",
    "                                                  llm=ChatOpenAI(temperature=0))\n",
    "unique_docs = retriever_from_llm.get_relevant_documents(query=question)\n",
    "unique_docs"
   ]
  },
  {
   "cell_type": "code",
   "execution_count": 14,
   "metadata": {},
   "outputs": [
    {
     "name": "stderr",
     "output_type": "stream",
     "text": [
      "WARNING:langchain.embeddings.openai:Retrying langchain.embeddings.openai.embed_with_retry.<locals>._embed_with_retry in 4.0 seconds as it raised RateLimitError: Rate limit reached for default-text-embedding-ada-002 in organization org-g7U7JTtbMZZLkHOXSRY2kGYg on requests per min. Limit: 3 / min. Please try again in 20s. Contact us through our help center at help.openai.com if you continue to have issues. Please add a payment method to your account to increase your rate limit. Visit https://platform.openai.com/account/billing to add a payment method..\n",
      "WARNING:langchain.embeddings.openai:Retrying langchain.embeddings.openai.embed_with_retry.<locals>._embed_with_retry in 4.0 seconds as it raised RateLimitError: Rate limit reached for default-text-embedding-ada-002 in organization org-g7U7JTtbMZZLkHOXSRY2kGYg on requests per min. Limit: 3 / min. Please try again in 20s. Contact us through our help center at help.openai.com if you continue to have issues. Please add a payment method to your account to increase your rate limit. Visit https://platform.openai.com/account/billing to add a payment method..\n",
      "WARNING:langchain.embeddings.openai:Retrying langchain.embeddings.openai.embed_with_retry.<locals>._embed_with_retry in 4.0 seconds as it raised RateLimitError: Rate limit reached for default-text-embedding-ada-002 in organization org-g7U7JTtbMZZLkHOXSRY2kGYg on requests per min. Limit: 3 / min. Please try again in 20s. Contact us through our help center at help.openai.com if you continue to have issues. Please add a payment method to your account to increase your rate limit. Visit https://platform.openai.com/account/billing to add a payment method..\n"
     ]
    },
    {
     "data": {
      "text/plain": [
       "{'query': 'Do you cure pile?',\n",
       " 'result': 'Yes, our product, Dictamni Anti-bacterial Cream, is specifically designed to help heal and treat hemorrhoids (piles). It contains natural ingredients that have been used for thousands of years to cure hemorrhoids. It has effective anti-inflammatory, astringent, and antiseptic properties that stimulate the healing process of the anal skin and help restore dilated and inflamed veins to normal conditions.'}"
      ]
     },
     "execution_count": 14,
     "metadata": {},
     "output_type": "execute_result"
    }
   ],
   "source": [
    "# Retrieve answer\n",
    "qa_chain = RetrievalQA.from_chain_type(llm,retriever=vectorstore.as_retriever())\n",
    "qa_chain({\"query\": question})"
   ]
  },
  {
   "cell_type": "code",
   "execution_count": 15,
   "metadata": {},
   "outputs": [],
   "source": [
    "sales_template = \"\"\"As a sales reprentative, your goal is to convince potential customers to make a purchase using\n",
    "relevant and helpful information that will calm whatever concerns or reservations they might have about the product.\n",
    "You should answer the answer customer inquiries based on the context provided and avoid making up answers. If you \n",
    "don't know the answer, simply say you don't know while convincing them to try out the product. \n",
    "Ask customers what product they want and confirm what country they are in and then offer them prices in their currency \n",
    "where KES is for Kenyas Shillings and GHC is for Ghana Cedis. Remember to provide relevant information about product \n",
    "features that highlights it's benefits and use cases to assist the user in understanding its value. Keep the answer\n",
    "as concise as possible.\n",
    "{context}\n",
    "\n",
    "Question: {question}\n",
    "Helpful Answer:\n",
    "\"\"\""
   ]
  },
  {
   "cell_type": "code",
   "execution_count": null,
   "metadata": {},
   "outputs": [],
   "source": []
  },
  {
   "cell_type": "code",
   "execution_count": 16,
   "metadata": {},
   "outputs": [],
   "source": [
    "# chain = LLMChain()"
   ]
  }
 ],
 "metadata": {
  "kernelspec": {
   "display_name": "llmenv",
   "language": "python",
   "name": "python3"
  },
  "language_info": {
   "codemirror_mode": {
    "name": "ipython",
    "version": 3
   },
   "file_extension": ".py",
   "mimetype": "text/x-python",
   "name": "python",
   "nbconvert_exporter": "python",
   "pygments_lexer": "ipython3",
   "version": "3.10.12"
  },
  "orig_nbformat": 4
 },
 "nbformat": 4,
 "nbformat_minor": 2
}

{
 "cells": [
  {
   "cell_type": "code",
   "execution_count": 1,
   "metadata": {},
   "outputs": [],
   "source": [
    "from langchain.document_loaders import YoutubeLoader\n",
    "from langchain.text_splitter import RecursiveCharacterTextSplitter\n",
    "from langchain.embeddings.openai import OpenAIEmbeddings\n",
    "from langchain.chains import LLMChain\n",
    "from langchain.chat_models import ChatOpenAI\n",
    "from langchain.vectorstores import FAISS\n",
    "from langchain.prompts.chat import (\n",
    "    ChatPromptTemplate,\n",
    "    SystemMessagePromptTemplate,\n",
    "    HumanMessagePromptTemplate,\n",
    ")\n",
    "from dotenv import find_dotenv, load_dotenv\n",
    "import textwrap"
   ]
  },
  {
   "cell_type": "code",
   "execution_count": 2,
   "metadata": {},
   "outputs": [],
   "source": [
    "load_dotenv(find_dotenv())\n",
    "embeddings = OpenAIEmbeddings()"
   ]
  },
  {
   "cell_type": "code",
   "execution_count": 3,
   "metadata": {},
   "outputs": [],
   "source": [
    "def create_db_from_youtube_video_url(video_url):\n",
    "  # Load transcript from Youtube url\n",
    "  loader = YoutubeLoader.from_youtube_url(video_url)\n",
    "  transcript = loader.load()\n",
    "  \n",
    "  # Split text into chunks\n",
    "  text_splitter = RecursiveCharacterTextSplitter(chunk_size=1000, chunk_overlap=100)\n",
    "  docs = text_splitter.split_documents(transcript)\n",
    "  \n",
    "  # Store text embeddings into vector database\n",
    "  db = FAISS.from_documents(docs, embeddings)\n",
    "  return db"
   ]
  },
  {
   "cell_type": "code",
   "execution_count": 4,
   "metadata": {},
   "outputs": [],
   "source": [
    "def get_response_from_query(query, db, k=4):\n",
    "  \n",
    "  # Query vector database\n",
    "  query = 'how to create a chatbot from a website'\n",
    "  docs = db.similarity_search(query, k=4)\n",
    "  \n",
    "  # Join docs to make sentence\n",
    "  docs_page_content = ''.join([d.page_content for d in docs])\n",
    "  \n",
    "  # Create model\n",
    "  chat = ChatOpenAI(model='gpt-3.5-turbo', temperature=0.2)\n",
    "  \n",
    "  # template to use as system prompt\n",
    "  template = \"\"\"\n",
    "    You are a helpful assistant that can answer questions about a youtube video based on the transcript: {docs}\n",
    "    \n",
    "    Only use factual information from the transcript to answer the questions.\n",
    "    \n",
    "    If you feel like you don't have enough information to answer the question, say \"I don't know\"\n",
    "    \n",
    "    Your answer should be verbose and detailed.\n",
    "    \"\"\"\n",
    "\n",
    "  system_message_prompt = SystemMessagePromptTemplate.from_template(template)\n",
    "\n",
    "  # Human prompt\n",
    "  human_template = 'Answer the following: {question}'\n",
    "  human_message_prompt = HumanMessagePromptTemplate.from_template(human_template)\n",
    "\n",
    "  # Chat prompt\n",
    "  chat_prompt = ChatPromptTemplate.from_messages([system_message_prompt, human_message_prompt])\n",
    "\n",
    "  chain = LLMChain(llm=chat, prompt=chat_prompt, )\n",
    "  response = chain.run(question=query, docs=docs_page_content)\n",
    "  response = response.replace('\\n', '')\n",
    "  return response, docs"
   ]
  },
  {
   "cell_type": "code",
   "execution_count": 5,
   "metadata": {},
   "outputs": [],
   "source": [
    "video_url = 'https://www.youtube.com/watch?v=RBnuhhmD21U&t=784s'\n",
    "db = create_db_from_youtube_video_url(video_url)"
   ]
  },
  {
   "cell_type": "code",
   "execution_count": 6,
   "metadata": {},
   "outputs": [
    {
     "name": "stdout",
     "output_type": "stream",
     "text": [
      "To create a chatbot from a website, you can follow these steps:1. Understand the\n",
      "website structure: Start by analyzing the website and understanding its\n",
      "structure. Identify the different pages or URLs that make up the website. This\n",
      "can be done by using the site map of the website, which lists all the pages and\n",
      "their corresponding addresses.2. Divide web pages into smaller documents: Once\n",
      "you have identified the web pages, you need to divide them into smaller\n",
      "documents. This is necessary because chatbots typically work with smaller chunks\n",
      "of text. You can divide the web pages into paragraphs, sections, or any other\n",
      "logical divisions that make sense for your chatbot's purpose.3. Choose a\n",
      "language model: To train your chatbot, you will need a large language model.\n",
      "There are various options available, such as OpenAI's language models or open-\n",
      "source models like GPT-4 or LAMA Index. Select a language model that suits your\n",
      "requirements and capabilities.4. Embedding the documents: Next, you need to\n",
      "embed the smaller documents into vector representations. Embeddings capture the\n",
      "semantic meaning of the text and allow the chatbot to understand and compare\n",
      "different documents. You can use embedding APIs like OpenAI's embeddings or\n",
      "other similar services to generate embeddings for your documents.5. User\n",
      "interaction: When a user interacts with the chatbot, they will ask a question or\n",
      "provide a query. This question is then sent to the embedding API to generate an\n",
      "embedding representation of the query.6. Semantic search: The next step is to\n",
      "perform a semantic search or similarity search. The embedding of the user's\n",
      "query is compared with the embeddings of the documents stored in the knowledge\n",
      "base. This comparison is done using a similarity metric to find the most\n",
      "relevant documents that match the user's query.7. Generating a response: Once\n",
      "the relevant documents are identified, the chatbot can generate a response based\n",
      "on the information extracted from those documents. The response can be a direct\n",
      "answer or a suggestion to navigate to a specific page on the website.8.\n",
      "Implementing the code: To implement the chatbot, you will need to write code\n",
      "that handles the user interaction, embedding generation, semantic search, and\n",
      "response generation. You can use programming languages like Python and libraries\n",
      "like OpenAI's API or other open-source tools to build the chatbot.9. Testing and\n",
      "refining: After implementing the chatbot, it is important to test it thoroughly\n",
      "and refine it based on user feedback. This iterative process helps improve the\n",
      "chatbot's performance and accuracy over time.It's worth noting that the specific\n",
      "implementation details may vary depending on the chosen language model,\n",
      "embedding API, and programming language. Additionally, there are various\n",
      "frameworks and platforms available that provide chatbot development tools and\n",
      "simplify the process.\n"
     ]
    }
   ],
   "source": [
    "query = 'How can i train langchain on my website'\n",
    "response, docs = get_response_from_query(query, db)\n",
    "print(textwrap.fill(response, width=80))"
   ]
  }
 ],
 "metadata": {
  "kernelspec": {
   "display_name": "llmenv",
   "language": "python",
   "name": "python3"
  },
  "language_info": {
   "codemirror_mode": {
    "name": "ipython",
    "version": 3
   },
   "file_extension": ".py",
   "mimetype": "text/x-python",
   "name": "python",
   "nbconvert_exporter": "python",
   "pygments_lexer": "ipython3",
   "version": "3.10.12"
  },
  "orig_nbformat": 4
 },
 "nbformat": 4,
 "nbformat_minor": 2
}
